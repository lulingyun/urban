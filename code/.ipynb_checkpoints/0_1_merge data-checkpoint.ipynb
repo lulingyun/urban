{
 "cells": [
  {
   "cell_type": "code",
   "execution_count": 1,
   "metadata": {},
   "outputs": [],
   "source": [
    "#关于文档的一个数据分类\n",
    "import pandas as pd\n",
    "import seaborn as sns  #用于绘制热图的工具包\n",
    "from scipy.cluster import hierarchy  #用于进行层次聚类，话层次聚类图的工具包\n",
    "from scipy import cluster   \n",
    "import matplotlib.pyplot as plt\n",
    "from sklearn import decomposition as skldec #用于主成分分析降维的包\n",
    "import numpy as np\n",
    "#import csv\n",
    "import math\n",
    "from pandas import Series,DataFrame\n",
    "from matplotlib.ticker import  MultipleLocator"
   ]
  },
  {
   "cell_type": "code",
   "execution_count": 20,
   "metadata": {},
   "outputs": [],
   "source": [
    "# Data2 = pd.read_csv('evey_year_invesment(1991-2017).csv',index_col=0)  # 读取训练数据\n",
    "# Data3 = pd.read_csv('evey_year_Investment_times(1991-2017).csv',index_col=0)\n",
    "data2 = pd.read_excel('E:/文档系列/python 系列/TheData/total/evey_year_invesment(1991-2017).xlsx')  # 读取训练数据\n",
    "data3 = pd.read_excel('E:/文档系列/python 系列/TheData/total/evey_year_Investment_times(1991-2017).xlsx')\n",
    "#data=pd.read_csv('GDP&&pop&&area&&Roadleng.csv',index_col=0)\n",
    "dor_GP= pd.read_excel('E:/文档系列/python 系列/TheData/0_theDATA_end(1991-2017pop&GDP&vc)/00-18POP&GDP.xlsx')"
   ]
  },
  {
   "cell_type": "code",
   "execution_count": 21,
   "metadata": {},
   "outputs": [],
   "source": [
    "### 分别获得投资金额和GDP的城市名 ###\n",
    "#data_city=data['City'].drop_duplicates().values\n",
    "data2_city=data2['city'].values\n",
    "data3_city=data3['city'].values\n",
    "# ### 分别获得投资金额和GDP的城市名 ###\n",
    "GPAR_city1=dor_GP['City'].drop_duplicates().values"
   ]
  },
  {
   "cell_type": "code",
   "execution_count": 22,
   "metadata": {},
   "outputs": [],
   "source": [
    "def getCity(s):\n",
    "    a=s.split('|')\n",
    "    return(a[1])"
   ]
  },
  {
   "cell_type": "code",
   "execution_count": 23,
   "metadata": {},
   "outputs": [],
   "source": [
    "data2['City']=data2['city2'].map(getCity)\n",
    "data3['City']=data3['city2'].map(getCity)"
   ]
  },
  {
   "cell_type": "code",
   "execution_count": 24,
   "metadata": {},
   "outputs": [],
   "source": [
    "inv_times=['1991invtime','1992invtime','1993invtime','1994invtime','1995invtime','1996invtime','1997invtime','1998invtime','1999invtime','2000invtime','2001invtime','2002invtime','2003invtime','2004invtime','2005invtime','2006invtime','2007invtime','2008invtime','2009invtime',\n",
    "     '2010invtime','2011invtime','2012invtime','2013invtime','2014invtime','2015invtime','2016invtime','2017invtime','city','city2','City']\n",
    "investment=['1991inv','1992inv','1993inv','1994inv','1995inv','1996inv','1997inv','1998inv','1999inv','2000inv','2001inv','2002inv','2003inv','2004inv','2005inv','2006inv','2007inv','2008inv','2009inv',\n",
    "     '2010inv','2011inv','2012inv','2013inv','2014inv','2015inv','2016inv','2017inv','city','city2','City']"
   ]
  },
  {
   "cell_type": "code",
   "execution_count": 25,
   "metadata": {},
   "outputs": [],
   "source": [
    "###对投资表和投资金额表进行重新命名\n",
    "data2.columns=investment\n",
    "data3.columns=inv_times"
   ]
  },
  {
   "cell_type": "code",
   "execution_count": 26,
   "metadata": {},
   "outputs": [],
   "source": [
    "### 将投资金额和GDP的数据合并到一起 ###\n",
    "DATA11=pd.merge(dor_GP, data2, on=['City'], how='inner')\n",
    "### 将投资次数和GDP的数据合并到一起 ###\n",
    "DATA2=pd.merge(DATA11, data3, on=['City'], how='inner')"
   ]
  },
  {
   "cell_type": "code",
   "execution_count": 27,
   "metadata": {},
   "outputs": [],
   "source": [
    "DATA2.to_excel('E:/文档系列/python 系列/TheData/0_theDATA_end(1991-2017pop&GDP&vc)/ALL_Intersection(1991-2017仅插值).xlsx')"
   ]
  },
  {
   "cell_type": "code",
   "execution_count": 28,
   "metadata": {},
   "outputs": [],
   "source": [
    "DATA12=pd.merge(dor_GP, data2, on=['City'], how='outer')\n",
    "### 将投资次数和GDP的数据合并到一起 ###\n",
    "DATA22=pd.merge(DATA12, data3, on=['City'], how='outer')\n",
    "DATA22.to_excel('E:/文档系列/python 系列/TheData/0_theDATA_end(1991-2017pop&GDP&vc)/ALL_Union(1991-2017仅插值).xlsx')"
   ]
  },
  {
   "cell_type": "code",
   "execution_count": null,
   "metadata": {},
   "outputs": [],
   "source": []
  }
 ],
 "metadata": {
  "kernelspec": {
   "display_name": "Python 3",
   "language": "python",
   "name": "python3"
  },
  "language_info": {
   "codemirror_mode": {
    "name": "ipython",
    "version": 3
   },
   "file_extension": ".py",
   "mimetype": "text/x-python",
   "name": "python",
   "nbconvert_exporter": "python",
   "pygments_lexer": "ipython3",
   "version": "3.6.5"
  }
 },
 "nbformat": 4,
 "nbformat_minor": 2
}
