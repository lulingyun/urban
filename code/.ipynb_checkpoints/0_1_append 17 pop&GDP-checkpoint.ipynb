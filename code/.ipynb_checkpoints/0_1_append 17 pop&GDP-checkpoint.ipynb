{
 "cells": [
  {
   "cell_type": "code",
   "execution_count": 1,
   "metadata": {},
   "outputs": [],
   "source": [
    "#关于文档的一个数据分类\n",
    "import pandas as pd\n",
    "import seaborn as sns  #用于绘制热图的工具包\n",
    "from scipy.cluster import hierarchy  #用于进行层次聚类，话层次聚类图的工具包\n",
    "from scipy import cluster   \n",
    "import matplotlib.pyplot as plt\n",
    "from sklearn import decomposition as skldec #用于主成分分析降维的包\n",
    "import numpy as np\n",
    "#import csv\n",
    "import math\n",
    "from pandas import Series,DataFrame\n",
    "from matplotlib.ticker import  MultipleLocator\n",
    "import pylab as pl   #画图用\n",
    "from sklearn import svm\n",
    "from sklearn import linear_model"
   ]
  },
  {
   "cell_type": "code",
   "execution_count": 17,
   "metadata": {},
   "outputs": [],
   "source": [
    "# data17G = pd.read_excel('E:/文档系列/python 系列/TheData/2017-2018年鉴数据-人口、建成区面积、GDP、道路长度/2017年人口&GDP.xlsx')\n",
    "# data17AP = pd.read_excel('E:/文档系列/python 系列/TheData/2017-2018年鉴数据-人口、建成区面积、GDP、道路长度/all_17pop&area.xlsx')\n",
    "# # data17R = pd.read_excel('E:/文档系列/python 系列/TheData/2017-2018年鉴数据-人口、建成区面积、GDP、道路长度/all_17roadlength.xlsx')\n",
    "\n",
    "# data18G = pd.read_excel('E:/文档系列/python 系列/TheData/2017-2018年鉴数据-人口、建成区面积、GDP、道路长度/2018年pop&GDP.xlsx')\n",
    "# data18AP = pd.read_excel('E:/文档系列/python 系列/TheData/2017-2018年鉴数据-人口、建成区面积、GDP、道路长度/all_18pop&area.xlsx')\n",
    "# # data18R = pd.read_excel('E:/文档系列/python 系列/TheData/2017-2018年鉴数据-人口、建成区面积、GDP、道路长度/all_18roadlength.xlsx')\n",
    "# ###将所有匹配好的数据保存下来\n",
    "# dataALL = pd.read_excel('E:/文档系列/python 系列/TheData/2017-2018年鉴数据-人口、建成区面积、GDP、道路长度/1718POP&GDP&roadleng&area.xlsx')\n",
    "# DATA = pd.read_excel('E:/文档系列/python 系列/TheData/merge/ALL(1991-2017仅插值).xlsx')"
   ]
  },
  {
   "cell_type": "code",
   "execution_count": 23,
   "metadata": {},
   "outputs": [],
   "source": [
    "data1 = pd.read_excel('E:/文档系列/python 系列/作业2/中国275+地级市城市要素数据2000-2016/04GDP2.xlsx')\n",
    "data17G = pd.read_excel('E:/文档系列/python 系列/TheData/2017-2018年鉴数据-人口、建成区面积、GDP、道路长度/2017年人口&GDP.xlsx')###读取GDP\n",
    "data17AP = pd.read_excel('E:/文档系列/python 系列/TheData/2017-2018年鉴数据-人口、建成区面积、GDP、道路长度/all_17pop&area.xlsx')###读取人口\n",
    "data18G = pd.read_excel('E:/文档系列/python 系列/TheData/2017-2018年鉴数据-人口、建成区面积、GDP、道路长度/2018年pop&GDP.xlsx')\n",
    "data18AP = pd.read_excel('E:/文档系列/python 系列/TheData/2017-2018年鉴数据-人口、建成区面积、GDP、道路长度/all_18pop&area.xlsx')"
   ]
  },
  {
   "cell_type": "code",
   "execution_count": 24,
   "metadata": {},
   "outputs": [
    {
     "data": {
      "text/html": [
       "<div>\n",
       "<style scoped>\n",
       "    .dataframe tbody tr th:only-of-type {\n",
       "        vertical-align: middle;\n",
       "    }\n",
       "\n",
       "    .dataframe tbody tr th {\n",
       "        vertical-align: top;\n",
       "    }\n",
       "\n",
       "    .dataframe thead th {\n",
       "        text-align: right;\n",
       "    }\n",
       "</style>\n",
       "<table border=\"1\" class=\"dataframe\">\n",
       "  <thead>\n",
       "    <tr style=\"text-align: right;\">\n",
       "      <th></th>\n",
       "      <th>city</th>\n",
       "      <th>全 Total City</th>\n",
       "      <th>辖区 Districts under City</th>\n",
       "      <th>GDP</th>\n",
       "    </tr>\n",
       "  </thead>\n",
       "  <tbody>\n",
       "    <tr>\n",
       "      <th>0</th>\n",
       "      <td>北京</td>\n",
       "      <td>1359.0</td>\n",
       "      <td>1359.0</td>\n",
       "      <td>280149400.0</td>\n",
       "    </tr>\n",
       "  </tbody>\n",
       "</table>\n",
       "</div>"
      ],
      "text/plain": [
       "  city   全 Total City  辖区 Districts under City          GDP\n",
       "0    北京        1359.0                   1359.0  280149400.0"
      ]
     },
     "execution_count": 24,
     "metadata": {},
     "output_type": "execute_result"
    }
   ],
   "source": [
    "data17G[0:1]"
   ]
  },
  {
   "cell_type": "code",
   "execution_count": 25,
   "metadata": {},
   "outputs": [],
   "source": [
    "GDP_code17P = data17AP.set_index(\"city\").to_dict()['2017Pop']###得到2017年的city-gdp、pop、area、roadlength\n",
    "GDP_code17G = data17G.set_index(\"city \").to_dict()['GDP']\n",
    "\n",
    "GDP_code18P = data18AP.set_index(\"city\").to_dict()['2018Pop']###得到2018年的city-gdp、pop、area、roadlength\n",
    "GDP_code18G = data18G.set_index(\"city \").to_dict()['GDP']"
   ]
  },
  {
   "cell_type": "code",
   "execution_count": 26,
   "metadata": {},
   "outputs": [
    {
     "data": {
      "text/plain": [
       "(663, 298, 693, 295)"
      ]
     },
     "execution_count": 26,
     "metadata": {},
     "output_type": "execute_result"
    }
   ],
   "source": [
    "len(GDP_code17P),len(GDP_code17G),len(GDP_code18P),len(GDP_code18G)"
   ]
  },
  {
   "cell_type": "code",
   "execution_count": 27,
   "metadata": {},
   "outputs": [],
   "source": [
    "#d系列函数分别是为了找到'行业(清科)'和一二三产业、代号的对应关系\n",
    "def d1(s):\n",
    "    end=GDP_code17P[s]\n",
    "    return(end)\n",
    "def d2(s):\n",
    "    end=GDP_code17G[s]\n",
    "    return(end)\n",
    "\n",
    "def D1(s):\n",
    "    end=GDP_code18P[s]\n",
    "    return(end)\n",
    "def D2(s):\n",
    "    end=GDP_code18G[s]\n",
    "    return(end)\n",
    "dataAll=data1\n",
    "dataAll['2017Pop']=dataAll['City'].map(d1)###总表中的城市与其对应\n",
    "dataAll['2017GDP']=dataAll['City'].map(d2)\n",
    "\n",
    "dataAll['2018Pop']=dataAll['City'].map(D1)\n",
    "dataAll['2018GDP']=dataAll['City'].map(D2)"
   ]
  },
  {
   "cell_type": "code",
   "execution_count": 28,
   "metadata": {},
   "outputs": [],
   "source": [
    "dataAll.to_excel('E:/文档系列/python 系列/TheData/0_theDATA_end(1991-2017pop&GDP&vc)/00-18POP&GDP.xlsx')"
   ]
  },
  {
   "cell_type": "code",
   "execution_count": null,
   "metadata": {},
   "outputs": [],
   "source": []
  }
 ],
 "metadata": {
  "kernelspec": {
   "display_name": "Python 3",
   "language": "python",
   "name": "python3"
  },
  "language_info": {
   "codemirror_mode": {
    "name": "ipython",
    "version": 3
   },
   "file_extension": ".py",
   "mimetype": "text/x-python",
   "name": "python",
   "nbconvert_exporter": "python",
   "pygments_lexer": "ipython3",
   "version": "3.6.5"
  }
 },
 "nbformat": 4,
 "nbformat_minor": 2
}
