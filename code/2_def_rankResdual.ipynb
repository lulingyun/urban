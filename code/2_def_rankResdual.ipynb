{
 "cells": [
  {
   "cell_type": "code",
   "execution_count": 1,
   "metadata": {},
   "outputs": [],
   "source": [
    "#################### 这个是最终得到的关于城市的 rank-sc ###############################\n",
    "#关于文档的一个数据分类\n",
    "import pandas as pd\n",
    "import seaborn as sns  #用于绘制热图的工具包\n",
    "from scipy.cluster import hierarchy  #用于进行层次聚类，话层次聚类图的工具包\n",
    "from scipy import cluster   \n",
    "import matplotlib.pyplot as plt\n",
    "import numpy as np\n",
    "#import csv\n",
    "import math\n",
    "from pandas import Series,DataFrame\n",
    "from matplotlib.ticker import  MultipleLocator\n",
    "import pylab as pl   #画图用\n",
    "from sklearn import svm\n",
    "from sklearn import linear_model"
   ]
  },
  {
   "cell_type": "code",
   "execution_count": 2,
   "metadata": {},
   "outputs": [],
   "source": [
    "pop=['2000Pop','2001Pop','2002Pop','2003Pop','2004Pop','2005Pop','2006Pop','2007Pop','2008Pop','2009Pop',\n",
    "     '2010Pop','2011Pop','2012Pop','2013Pop','2014Pop','2015Pop','2016Pop','2017Pop']\n",
    "gdp=['2000GDP','2001GDP','2002GDP','2003GDP','2004GDP','2005GDP','2006GDP','2007GDP','2008GDP','2009GDP',\n",
    "     '2010GDP','2011GDP','2012GDP','2013GDP','2014GDP','2015GDP','2016GDP','2017GDP']\n",
    "area=['2000Area','2001Area','2002Area','2003Area','2004Area','2005Area','2006Area','2007Area','2008Area','2009Area',\n",
    "     '2010Area','2011Area','2012Area','2013Area','2014Area','2015Area','2016Area','2017Area']\n",
    "roadleng=['2000Roadleng','2001Roadleng','2002Roadleng','2003Roadleng','2004Roadleng','2005Roadleng','2006Roadleng','2007Roadleng','2008Roadleng','2009Roadleng',\n",
    "     '2010Roadleng','2011Roadleng','2012Roadleng','2013Roadleng','2014Roadleng','2015Roadleng','2016Roadleng','2017Roadleng']\n",
    "inv_times=['2000invtime','2001invtime','2002invtime','2003invtime','2004invtime','2005invtime','2006invtime','2007invtime','2008invtime','2009invtime',\n",
    "     '2010invtime','2011invtime','2012invtime','2013invtime','2014invtime','2015invtime','2016invtime','2017invtime']\n",
    "investment=['2000inv','2001inv','2002inv','2003inv','2004inv','2005inv','2006inv','2007inv','2008inv','2009inv',\n",
    "     '2010inv','2011inv','2012inv','2013inv','2014inv','2015inv','2016inv','2017inv']"
   ]
  },
  {
   "cell_type": "code",
   "execution_count": 4,
   "metadata": {},
   "outputs": [],
   "source": [
    "data =pd.read_excel('E:/文档系列/python 系列/TheData/0_theDATA_end(1991-2017pop&GDP&vc)/ALL_Intersection.xlsx')  # 读取训练数据\n",
    "city=data['City'].drop_duplicates().values\n",
    "City=data['city'].drop_duplicates().values\n",
    "\n",
    "Data = pd.read_excel('E:/文档系列/python 系列/TheData/total/11clean_area_invesments(91-17-RMB).xlsx')\n",
    "city2 = Data['city'].drop_duplicates().values\n",
    "# data2 = pd.read_excel('E:/文档系列/python 系列/TheData/merge/ALL(1991-2017仅插值).xlsx')\n",
    "city3 = data['City'].values###得到城市\n",
    "cityUN=list(set(city3).intersection(set(city2))) ###得到两个城市的交集"
   ]
  },
  {
   "cell_type": "code",
   "execution_count": 5,
   "metadata": {},
   "outputs": [],
   "source": [
    "from scipy.optimize import leastsq  ##引入最小二乘法算法\n",
    "#需要拟合的函数func :指定函数的形状\n",
    "def func(p,x):\n",
    "    k,b=p\n",
    "    return k*x+b\n",
    "\n",
    "##偏差函数：x,y都是列表:这里的x,y更上面的Xi,Yi中是一一对应的\n",
    "def error(p,x,y):\n",
    "    return func(p,x)-y\n",
    "\n",
    "plt.rcParams['font.sans-serif']=['Simhei']     #解决中文显示问题，目前只知道黑体可行\n",
    "plt.rcParams['axes.unicode_minus']=False       #解决负数坐标显示问题"
   ]
  },
  {
   "cell_type": "code",
   "execution_count": 6,
   "metadata": {},
   "outputs": [],
   "source": [
    "##### 求残差 logy-log（kx+b）\n",
    "def GuiJI(data,xl,yl,i,xname,yname):\n",
    "    ###xl,yl：列名的list,xname,yname：列名,i:年份\n",
    "    city=data['City'].drop_duplicates().values\n",
    "    province=data['province'].values###得到省\n",
    "    r=[]  ###标度率\n",
    "    ###保存取完log后大于0的值\n",
    "    p=[]\n",
    "    g=[]\n",
    "    ###保存所有的log值，小于0的记录为-1\n",
    "    p2=[]\n",
    "    g2=[]\n",
    "    ###取列值的log\n",
    "    XI=data[xl[i]]\n",
    "    YI=data[yl[i]]\n",
    "    xi=np.log(XI)\n",
    "    yi=np.log(YI)\n",
    "    XII=xi.fillna(np.infty) ###将空值置为inf\n",
    "    YII=yi.fillna(np.infty)\n",
    "    ###判断是否大于0\n",
    "    City=[]###保存log值大于0的城市名\n",
    "    pro=[]###保存log值大于0的省名\n",
    "    for mm in range(len(XII)):\n",
    "        if XII[mm]==-float('Inf') or XII[mm]==float('Inf') or YII[mm]==-float('Inf') or YII[mm]==float('Inf'):\n",
    "            continue\n",
    "        else:\n",
    "            p.append(XII[mm])\n",
    "            g.append(YII[mm])\n",
    "#             p2.append(XII[mm])\n",
    "#             g2.append(YII[mm])\n",
    "            City.append(city[mm])\n",
    "            pro.append(province[mm])\n",
    "                           \n",
    "    #k,b的初始值，可以任意设定,经过几次试验，发现p0的值会影响cost的值：Para[1]\n",
    "    p0=[1,10]\n",
    "    Xi=np.array(p)\n",
    "    Yi=np.array(g)\n",
    "    #把error函数中除了p0以外的参数打包到args中(使用要求)\n",
    "    Para=leastsq(error,p0,args=(Xi,Yi))## 三个参数：误差函数、函数参数列表、数据点\n",
    "    #读取结果\n",
    "    k,b=Para[0]\n",
    "    ###将标度率写入r中\n",
    "    r.append(k) \n",
    "    y = [k*x+b for x in p]\n",
    "    ###得到残差\n",
    "    sc=[g[v]-y[v] for v in range(len(g))]\n",
    "    \n",
    "    ###计算频率分布\n",
    "    maxsc=max(sc)\n",
    "    minsc=min(sc)\n",
    "    Paragraph_len=(maxsc-minsc)/10\n",
    "    fresc=[]###频率\n",
    "    xvalue=[] ###坐标所在数段\n",
    "    for i in range(10):\n",
    "        num=0\n",
    "        psc=minsc+Paragraph_len*i ###左坐标\n",
    "        rpsc=psc+Paragraph_len    ###右坐标\n",
    "        for scj in sc:\n",
    "            if scj>=psc and scj<rpsc:\n",
    "                num=num+1\n",
    "        fresc.append(num/len(City))\n",
    "        xvalue.append((psc+rpsc)/2)\n",
    "        \n",
    "    ###按照sc的值进行排序\n",
    "    scdic = list(zip(sc,City))\n",
    "    scSort = sorted( scdic)###残差城市排序\n",
    "    \n",
    "#     prodic = dict(zip(pro,sc))\n",
    "#     proSort = sorted( prodic.items(),key = lambda x:x[1],reverse = True)###省作为item会有很多省北过滤掉\n",
    "    prodic = list(zip(sc,pro))\n",
    "    proSort = sorted( prodic)\n",
    "    return(r,City,p,g,y,sc,fresc,xvalue,scSort,k,b,proSort)"
   ]
  },
  {
   "cell_type": "code",
   "execution_count": 7,
   "metadata": {},
   "outputs": [],
   "source": [
    "def getCity(s):\n",
    "    a=list(s.split('|'))\n",
    "    return(a[0])\n",
    "data['province']=data.city.map(getCity)\n",
    "province=data['province'].drop_duplicates().values###得到省\n",
    "c=len(province)###一级产业数量\n",
    "a=list(sns.color_palette(\"hls\", c))\n",
    "yj_color=dict(zip(province,a))"
   ]
  },
  {
   "cell_type": "code",
   "execution_count": 8,
   "metadata": {},
   "outputs": [],
   "source": [
    "######### GDP #############\n",
    "######################## GDP ########################\n",
    "###计算相关年份的数据\n",
    "year=2015\n",
    "yearvalue=year-2000\n",
    "sami_GDP0=GuiJI(data,pop,gdp,yearvalue,'pop','GDP')\n",
    "\n",
    "###城市按照残差排名图\n",
    "dicsc0=sami_GDP0[8]\n",
    "scname0=[dicsc0[x][1] for x in range(len(dicsc0))]###城市名\n",
    "prosc0=sami_GDP0[11]###残差\n",
    "proname0=[prosc0[x][1] for x in range(len(prosc0))]\n",
    "\n",
    "x0=np.arange(1,212)\n",
    "y0=[dicsc0[x][0] for x in range(len(dicsc0))]"
   ]
  },
  {
   "cell_type": "code",
   "execution_count": 9,
   "metadata": {},
   "outputs": [
    {
     "name": "stderr",
     "output_type": "stream",
     "text": [
      "D:\\Users\\lu\\Anaconda3\\lib\\site-packages\\ipykernel_launcher.py:17: RuntimeWarning: divide by zero encountered in log\n"
     ]
    }
   ],
   "source": [
    "################### amount ############################\n",
    "###计算相关年份的数据\n",
    "sami_investment0=GuiJI(data,pop,investment,yearvalue,'pop','investment')\n",
    "###城市按照残差排名图\n",
    "dicscM0=sami_investment0[8]\n",
    "scnameM0=[dicscM0[x][1] for x in range(len(dicscM0))]\n",
    "proscM0=sami_investment0[11]\n",
    "pronameM0=[proscM0[x][1] for x in range(len(proscM0))]\n",
    "\n",
    "xM0=np.arange(1,len(scnameM0)+1)\n",
    "yM0=[dicscM0[x][0] for x in range(len(dicscM0))]"
   ]
  },
  {
   "cell_type": "code",
   "execution_count": 10,
   "metadata": {},
   "outputs": [],
   "source": [
    "#################### times ############################\n",
    "###计算相关年份的数据\n",
    "sami_times0=GuiJI(data,pop,inv_times,yearvalue,'pop','times')\n",
    "\n",
    "###城市按照残差排名图\n",
    "dicscT0=sami_times0[8]\n",
    "scnameT0=[dicscT0[x][1] for x in range(len(dicscT0))]\n",
    "proscT0=sami_times0[11]\n",
    "pronameT0=[proscT0[x][1] for x in range(len(proscT0))]\n",
    "\n",
    "xT0=np.arange(1,len(scnameT0)+1)\n",
    "yT0=[dicscT0[x][0] for x in range(len(dicscT0))]"
   ]
  },
  {
   "cell_type": "code",
   "execution_count": 11,
   "metadata": {},
   "outputs": [
    {
     "data": {
      "text/plain": [
       "(254, 254)"
      ]
     },
     "execution_count": 11,
     "metadata": {},
     "output_type": "execute_result"
    }
   ],
   "source": [
    "len(proname0),len(scname0)"
   ]
  },
  {
   "cell_type": "code",
   "execution_count": 12,
   "metadata": {},
   "outputs": [],
   "source": [
    "### 删选出来又投资的城市，投资次数为1的城市将其残差记为最小值。\n",
    "sc_GDP0=[] ###保存含有投资的城市的GDP\n",
    "sc_times0=[] ###保存旱藕投资的城市的投资次数，讲次数为1的残差填充为最小值\n",
    "for c1 in scnameM0:\n",
    "    for c2 in range(len(scname0)):\n",
    "        if scname0[c2] == c1:\n",
    "            sc_GDP0.append(y0[c2])\n",
    "### 得到投资次数的残差数据\n",
    "for c1 in scnameM0:\n",
    "    for c2 in range(len(scnameT0)):\n",
    "        if scnameT0[c2] == c1:\n",
    "            sc_times0.append(yT0[c2])"
   ]
  },
  {
   "cell_type": "code",
   "execution_count": 13,
   "metadata": {},
   "outputs": [],
   "source": [
    "#### 按照残差对GDP进行排序, 不可以使用字典，会过滤掉一些重复数据\n",
    "prodic_GDP0 = zip(sc_GDP0,pronameM0)###得到省份sc，对其排序\n",
    "city_GDP0 = zip(sc_GDP0,scnameM0)###得到省份sc，对其排序\n",
    "proSort_GDP0 = sorted( prodic_GDP0,reverse = True)\n",
    "citySort_GDP0 = sorted( city_GDP0,reverse = True)\n",
    "\n",
    "#### 按照残差对投资金额进行排序\n",
    "prodic_amount0 = zip(yM0,pronameM0)###得到省份sc，对其排序\n",
    "city_amount0 = zip(yM0,scnameM0)###得到省份sc，对其排序\n",
    "proSort_amount0 = sorted( prodic_amount0,reverse = True)\n",
    "citySort_amount0 = sorted( city_amount0,reverse = True)\n",
    "\n",
    "#### 按照残差对投资次数进行排序\n",
    "prodic_times0 = zip(sc_times0,pronameM0)###得到省份sc，对其排序\n",
    "city_times0 = zip(sc_times0,scnameM0)###得到省份sc，对其排序\n",
    "proSort_times0 = sorted( prodic_times0,reverse = True)\n",
    "citySort_times0 = sorted( city_times0,reverse = True)"
   ]
  },
  {
   "cell_type": "code",
   "execution_count": 53,
   "metadata": {},
   "outputs": [],
   "source": [
    "def pic_rank_residual(proSort,citySort,name1,name2,yj_color):\n",
    "    proName = [proSort[x][1] for x in range(len(proSort))] ###省名\n",
    "    cityName = [citySort[x][1] for x in range(len(citySort))] ###城市名\n",
    "    citySC = [citySort[x][0] for x in range(len(citySort))] ###城市sc\n",
    "#     plt.figure(figsize=(9,6))\n",
    "    font2 = {'family' : 'Arial',\n",
    "        'weight' : 'normal',\n",
    "        'size' : 22,\n",
    "        }###设置横纵坐标的字体格式\n",
    "    plt.xlabel(name1,font2)\n",
    "    plt.ylabel(r'$\\xi$'+name2,font2)\n",
    "    plt.tick_params(labelsize=16) #刻度字体大小13\n",
    "    plt.ylim(-5,4)\n",
    "    ### GDP残差分布情况\n",
    "    xM = np.arange(1,len(citySC)+1)\n",
    "    dicPIN = {'北京': 'beijing', '上海': 'shanghai', '广州': 'guangzhou', '深圳': 'shenzhen', '重庆': 'chongqing'}\n",
    "    nm = [-1,-2,-3,-4]\n",
    "    nmi = 0\n",
    "    for cc in range(len(xM)):\n",
    "        plt.bar(xM[cc],citySC[cc],color=yj_color[proName[cc]])\n",
    "        if cityName[cc]=='北京' or cityName[cc]=='上海' or cityName[cc]=='广州' or cityName[cc]=='深圳' or cityName[cc]=='重庆':\n",
    "#             print(cc)\n",
    "            \n",
    "            if cc==23:\n",
    "                plt.text(xM[cc]+5,1.4, '{}_'.format(xM[cc])+dicPIN[cityName[cc]],size=16)\n",
    "            elif cc==66:\n",
    "                plt.text(xM[cc],0.1, '{}_'.format(xM[cc])+dicPIN[cityName[cc]],size=16)\n",
    "            elif cc==7:\n",
    "                plt.text(xM[cc]+5,1.3, '{}_'.format(xM[cc])+dicPIN[cityName[cc]],size=16)\n",
    "            elif cc == 100:\n",
    "                plt.text(xM[cc]+5,-1, '{}_'.format(xM[cc])+dicPIN[cityName[cc]],size=16)\n",
    "            elif cc == 119:\n",
    "                plt.text(xM[cc]-3,-1.5, '{}_'.format(xM[cc])+dicPIN[cityName[cc]],size=16)\n",
    "            elif cc==125:\n",
    "                plt.text(xM[cc]-5,-2, '{}_'.format(xM[cc])+dicPIN[cityName[cc]],size=16)\n",
    "            elif cc==136:\n",
    "                plt.text(xM[cc]-20,0.1, '{}_'.format(xM[cc])+dicPIN[cityName[cc]],size=16)\n",
    "            elif cc==86:\n",
    "                plt.text(xM[cc],0.1, '{}_'.format(xM[cc])+dicPIN[cityName[cc]],size=16)\n",
    "            elif cc==75:\n",
    "                plt.text(xM[cc],-0.6, '{}_'.format(xM[cc])+dicPIN[cityName[cc]],size=16)\n",
    "            elif cc==104:\n",
    "                plt.text(xM[cc]-5,-2, '{}_'.format(xM[cc])+dicPIN[cityName[cc]],size=16)\n",
    "            else:\n",
    "                \n",
    "                plt.text(xM[cc],citySC[cc], '{}_'.format(xM[cc])+dicPIN[cityName[cc]],size=16)\n"
   ]
  },
  {
   "cell_type": "code",
   "execution_count": 55,
   "metadata": {},
   "outputs": [
    {
     "data": {
      "image/png": "[encoded data removed]",
      "text/plain": [
       "<Figure size 1944x1008 with 3 Axes>"
      ]
     },
     "metadata": {},
     "output_type": "display_data"
    }
   ],
   "source": [
    "### 投资金额 的 rank-resdual plt.savefig('C:\\\\Users\\\\lu\\\\Desktop\\\\标度律\\\\2_times.png')#保存图片\n",
    "dicPIN = {'北京': 'beijing', '上海': 'shanghai', '广州': 'guangzhou', '深圳': 'shenzhen', '重庆': 'chongqing'}\n",
    "\n",
    "from matplotlib.ticker import FuncFormatter   ### 今天的主角\n",
    "def formatnum(x, pos):\n",
    "    return '$%.2f$' % x\n",
    "fig = plt.figure(figsize=(27,14))\n",
    "ax1 = fig.add_subplot(231)\n",
    "formatter = FuncFormatter(formatnum)\n",
    "ax1.yaxis.set_major_formatter(formatter)\n",
    "pic_rank_residual(proSort_amount0,citySort_amount0,'rank(amount)','(amount)',yj_color)\n",
    "ax2 = fig.add_subplot(232)\n",
    "ax2.yaxis.set_major_formatter(formatter)\n",
    "pic_rank_residual(proSort_times0,citySort_times0,'rank(# investments)','(# investments)',yj_color)\n",
    "ax3 = fig.add_subplot(233)\n",
    "ax3.yaxis.set_major_formatter(formatter)\n",
    "pic_rank_residual(proSort_GDP0,citySort_GDP0,'rank(GMP)','(GMP)',yj_color)\n",
    "# plt.savefig('C:\\\\Users\\\\lu\\\\Desktop\\\\标度律\\\\3_cityrank.png')#保存图片\n",
    "# plt.tight_layout()\n",
    "plt.savefig('E:/文档系列/python 系列/picScalling/20201025NEW/Fig2_def.pdf', bbox_inches='tight')\n"
   ]
  },
  {
   "cell_type": "code",
   "execution_count": null,
   "metadata": {},
   "outputs": [],
   "source": []
  }
 ],
 "metadata": {
  "kernelspec": {
   "display_name": "Python 3",
   "language": "python",
   "name": "python3"
  },
  "language_info": {
   "codemirror_mode": {
    "name": "ipython",
    "version": 3
   },
   "file_extension": ".py",
   "mimetype": "text/x-python",
   "name": "python",
   "nbconvert_exporter": "python",
   "pygments_lexer": "ipython3",
   "version": "3.6.5"
  }
 },
 "nbformat": 4,
 "nbformat_minor": 2
}
