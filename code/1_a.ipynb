{
 "cells": [
  {
   "cell_type": "code",
   "execution_count": 1,
   "metadata": {},
   "outputs": [],
   "source": [
    "import pandas as pd\n",
    "import numpy as np\n",
    "import csv\n",
    "import math\n",
    "import matplotlib.pyplot as plt\n",
    "from pandas import Series,DataFrame\n",
    "from matplotlib.ticker import  MultipleLocator"
   ]
  },
  {
   "cell_type": "code",
   "execution_count": 7,
   "metadata": {},
   "outputs": [],
   "source": [
    "data = pd.read_excel('E:/文档系列/python 系列/TheData/total/11clean_area_invesments(91-17-RMB).xlsx')\n",
    "data.rename(columns={'投资金额(RMB)':'new_money','实际地区':'area','投资时间':'years','投资币种':'invest_currency'}, inplace = True)"
   ]
  },
  {
   "cell_type": "code",
   "execution_count": 8,
   "metadata": {},
   "outputs": [
    {
     "data": {
      "text/html": [
       "<div>\n",
       "<style scoped>\n",
       "    .dataframe tbody tr th:only-of-type {\n",
       "        vertical-align: middle;\n",
       "    }\n",
       "\n",
       "    .dataframe tbody tr th {\n",
       "        vertical-align: top;\n",
       "    }\n",
       "\n",
       "    .dataframe thead th {\n",
       "        text-align: right;\n",
       "    }\n",
       "</style>\n",
       "<table border=\"1\" class=\"dataframe\">\n",
       "  <thead>\n",
       "    <tr style=\"text-align: right;\">\n",
       "      <th></th>\n",
       "      <th>City</th>\n",
       "      <th>P/E</th>\n",
       "      <th>企业估值</th>\n",
       "      <th>企业估值(USD/M)</th>\n",
       "      <th>企业净利润(百万元)</th>\n",
       "      <th>企业净资产(百万元)</th>\n",
       "      <th>企业名称</th>\n",
       "      <th>企业总资产(百万元)</th>\n",
       "      <th>企业销售收入(百万元)</th>\n",
       "      <th>地区</th>\n",
       "      <th>...</th>\n",
       "      <th>二级名称</th>\n",
       "      <th>一级字母代码</th>\n",
       "      <th>一级名称</th>\n",
       "      <th>一二三产业</th>\n",
       "      <th>投资金额(M)</th>\n",
       "      <th>补全的地区</th>\n",
       "      <th>area</th>\n",
       "      <th>change</th>\n",
       "      <th>new_money</th>\n",
       "      <th>city</th>\n",
       "    </tr>\n",
       "  </thead>\n",
       "  <tbody>\n",
       "    <tr>\n",
       "      <th>0</th>\n",
       "      <td>江门市</td>\n",
       "      <td>--</td>\n",
       "      <td>--</td>\n",
       "      <td>--</td>\n",
       "      <td>--</td>\n",
       "      <td>--</td>\n",
       "      <td>三捷电池</td>\n",
       "      <td>--</td>\n",
       "      <td>--</td>\n",
       "      <td>中国|广东省|江门市|蓬江区</td>\n",
       "      <td>...</td>\n",
       "      <td>电气机械和器材制造业</td>\n",
       "      <td>C</td>\n",
       "      <td>制造业</td>\n",
       "      <td>第二产业</td>\n",
       "      <td>0.0</td>\n",
       "      <td>中国|广东省|江门市|蓬江区</td>\n",
       "      <td>中国|广东省|江门市|蓬江区</td>\n",
       "      <td>0.0</td>\n",
       "      <td>0.0</td>\n",
       "      <td>江门</td>\n",
       "    </tr>\n",
       "  </tbody>\n",
       "</table>\n",
       "<p>1 rows × 41 columns</p>\n",
       "</div>"
      ],
      "text/plain": [
       "  City P/E 企业估值 企业估值(USD/M) 企业净利润(百万元) 企业净资产(百万元)  企业名称 企业总资产(百万元)  \\\n",
       "0  江门市  --   --          --         --         --  三捷电池         --   \n",
       "\n",
       "  企业销售收入(百万元)              地区 ...         二级名称 一级字母代码 一级名称 一二三产业 投资金额(M)  \\\n",
       "0          --  中国|广东省|江门市|蓬江区 ...   电气机械和器材制造业      C  制造业  第二产业     0.0   \n",
       "\n",
       "            补全的地区            area change new_money city  \n",
       "0  中国|广东省|江门市|蓬江区  中国|广东省|江门市|蓬江区    0.0       0.0   江门  \n",
       "\n",
       "[1 rows x 41 columns]"
      ]
     },
     "execution_count": 8,
     "metadata": {},
     "output_type": "execute_result"
    }
   ],
   "source": [
    "data[0:1]"
   ]
  },
  {
   "cell_type": "code",
   "execution_count": 11,
   "metadata": {},
   "outputs": [],
   "source": [
    "# data.loc[data['money'].str.contains('-')==True,'money']='0'\n",
    "# data.loc[data['money'].isin(['不披露'])==True,'money']='0'\n",
    "# data['area'].isnull().value_counts()\n",
    "# data['area']=data['area'].fillna('999')\n",
    "def getstr(s):\n",
    "    return str(s)[:4]\n",
    "data['get_year'] = data.years.map(getstr)\n",
    "yearsL = list(map(str,list(range(1991,2018))))"
   ]
  },
  {
   "cell_type": "code",
   "execution_count": 12,
   "metadata": {},
   "outputs": [],
   "source": [
    "M=data.groupby('get_year').new_money.sum().reindex(index=yearsL)"
   ]
  },
  {
   "cell_type": "code",
   "execution_count": 29,
   "metadata": {},
   "outputs": [],
   "source": [
    "Ytimes=[]\n",
    "for j in range(len(yearsL)):\n",
    "    nn=0\n",
    "    for i in range(data.shape[0]):\n",
    "        if data.iloc[i:i+1,41:42].values== yearsL[j] and data.iloc[i:i+1,39:40].values!=0:\n",
    "            nn+=1\n",
    "    Ytimes.append(nn)"
   ]
  },
  {
   "cell_type": "code",
   "execution_count": 31,
   "metadata": {},
   "outputs": [
    {
     "name": "stderr",
     "output_type": "stream",
     "text": [
      "D:\\Users\\lu\\Anaconda3\\lib\\site-packages\\matplotlib\\cbook\\deprecation.py:107: MatplotlibDeprecationWarning: Adding an axes using the same arguments as a previous axes currently reuses the earlier instance.  In a future version, a new instance will always be created and returned.  Meanwhile, this warning can be suppressed, and the future behavior ensured, by passing a unique label to each axes instance.\n",
      "  warnings.warn(message, mplDeprecation, stacklevel=1)\n"
     ]
    },
    {
     "data": {
      "image/png": "[encoded data removed]",
      "text/plain": [
       "<Figure size 504x432 with 2 Axes>"
      ]
     },
     "metadata": {},
     "output_type": "display_data"
    }
   ],
   "source": [
    "from matplotlib.ticker import FuncFormatter   ### 今天的主角\n",
    "font2 = {'family' : 'Arial',\n",
    "'weight' : 'normal',\n",
    "'size' : 22,\n",
    "}###设置横纵坐标的字体格式\n",
    "\n",
    "############## 用科学计数法表示坐标 ################\n",
    "x=np.arange(1991,2018)\n",
    "y=np.array(M)\n",
    "fig = plt.figure(figsize=(7,6))\n",
    "xmajorLocator = MultipleLocator(5)\n",
    "xminorLocator = MultipleLocator(1.0)\n",
    "plt.tick_params(labelsize=16) #刻度字体大小13\n",
    " \n",
    "ax1 = fig.add_subplot(111)\n",
    "ax1.plot(yearsL,y, color = '#c44240',linewidth=2)\n",
    "# ax1.set_yscale('log')\n",
    "ax1.set_ylabel('amount (M/RMB)',font2)\n",
    "ax1.set_xlabel('year',font2)\n",
    "# ax1.legend(loc='upper left')\n",
    "ax1.yaxis.set_tick_params(color='#c44240',colors='#c44240',labelsize=16)\n",
    "def formatnum(x, pos):\n",
    "#     return x//10000\n",
    "    return '$%.0f$' % (x/10000)\n",
    "#     return '$%.1f$x$10^{4}$' % (x/10000)\n",
    "def formatnum2(x, pos):\n",
    "    return '$%.0f$' % (x/1000)\n",
    "formatter = FuncFormatter(formatnum)\n",
    "formatter2 = FuncFormatter(formatnum2)\n",
    "ax1.yaxis.set_major_formatter(formatter)\n",
    " \n",
    "ax2 = ax1.twinx()  # this is the important function\n",
    "ax2.plot(yearsL,Ytimes,  color = '#5684ae',linewidth=2)\n",
    "ax2.set_ylabel('# investments',font2)\n",
    "# ax2.set_yscale('log')\n",
    "ax2.spines['left'].set_color('#c44240')\n",
    "ax2.spines['right'].set_color('#5684ae')\n",
    "# ax2.legend(loc='upper right')\n",
    "# ax2.spines['left'].set_linewidth(3)\n",
    "# ax2.spines['right'].set_linewidth(3)\n",
    "ax2.yaxis.set_tick_params(color='#5684ae',colors='#5684ae',labelsize=16)\n",
    "ax2.yaxis.set_major_formatter(formatter2)\n",
    "ax1.xaxis.set_major_locator(xmajorLocator)\n",
    "ax1.xaxis.set_minor_locator(xminorLocator)\n",
    "ax1.xaxis.grid(True, which='major') #x坐标轴的网格使用主刻度\n",
    "plt.text(25, 7000, r'x$10^{3}$',size=14)\n",
    "plt.text(0,7000, r'x$10^{4}$',size=14)\n",
    "# plt.savefig('E:/文档系列/python 系列/picScalling/Fig1a.pdf')\n",
    "plt.show()"
   ]
  },
  {
   "cell_type": "code",
   "execution_count": null,
   "metadata": {},
   "outputs": [],
   "source": []
  }
 ],
 "metadata": {
  "kernelspec": {
   "display_name": "Python 3",
   "language": "python",
   "name": "python3"
  },
  "language_info": {
   "codemirror_mode": {
    "name": "ipython",
    "version": 3
   },
   "file_extension": ".py",
   "mimetype": "text/x-python",
   "name": "python",
   "nbconvert_exporter": "python",
   "pygments_lexer": "ipython3",
   "version": "3.6.5"
  }
 },
 "nbformat": 4,
 "nbformat_minor": 2
}
